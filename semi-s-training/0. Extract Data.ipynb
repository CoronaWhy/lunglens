{
 "cells": [
  {
   "cell_type": "markdown",
   "metadata": {
    "Collapsed": "false"
   },
   "source": [
    "# Extracting Data for General Model training"
   ]
  },
  {
   "cell_type": "code",
   "execution_count": 1,
   "metadata": {
    "Collapsed": "false"
   },
   "outputs": [],
   "source": [
    "import os\n",
    "from glob import glob\n",
    "from tqdm.auto import tqdm\n",
    "\n",
    "import zipfile"
   ]
  },
  {
   "cell_type": "markdown",
   "metadata": {
    "Collapsed": "false"
   },
   "source": [
    "## 2019nCoVR dataset\n",
    "Dataset published by China National Center for Bioinformation"
   ]
  },
  {
   "cell_type": "code",
   "execution_count": 2,
   "metadata": {
    "Collapsed": "false"
   },
   "outputs": [],
   "source": [
    "ds_dir = '../data/downloads/2019nCoVR/'\n",
    "dest_dir = '../data/extracted/2019nCoVR/'\n",
    "\n",
    "os.makedirs(dest_dir, exist_ok=True)"
   ]
  },
  {
   "cell_type": "code",
   "execution_count": 3,
   "metadata": {
    "Collapsed": "false"
   },
   "outputs": [
    {
     "data": {
      "text/plain": [
       "92"
      ]
     },
     "execution_count": 3,
     "metadata": {},
     "output_type": "execute_result"
    }
   ],
   "source": [
    "file_list = sorted(glob(ds_dir + '*.zip'))\n",
    "len(file_list)"
   ]
  },
  {
   "cell_type": "markdown",
   "metadata": {
    "Collapsed": "false"
   },
   "source": [
    "Extracting with overwrite check"
   ]
  },
  {
   "cell_type": "code",
   "execution_count": null,
   "metadata": {
    "Collapsed": "false"
   },
   "outputs": [],
   "source": [
    "for zip_path in tqdm(file_list):\n",
    "    sub_folder_name = os.path.splitext(os.path.basename(zip_path))[0]\n",
    "    if sub_folder_name in ['code', 'ct_lesion_seg']:\n",
    "        continue\n",
    "\n",
    "    with zipfile.ZipFile(zip_path, 'r') as z:\n",
    "        # z.extractall(dest_dir)\n",
    "        for member in z.namelist():\n",
    "            if os.path.isfile(dest_dir + member):\n",
    "                print(f'Error: {member} exists')\n",
    "                break\n",
    "            else:\n",
    "                z.extract(member, dest_dir)"
   ]
  },
  {
   "cell_type": "markdown",
   "metadata": {
    "Collapsed": "true"
   },
   "source": [
    "## COVID19_1110 dataset\n",
    "MosMedData: Chest CT Scans with COVID-19 Related Findings"
   ]
  },
  {
   "cell_type": "code",
   "execution_count": 24,
   "metadata": {
    "Collapsed": "false"
   },
   "outputs": [],
   "source": [
    "ds_dir = '../data/downloads/COVID19_1110/'\n",
    "dest_dir = '../data/extracted/COVID19_1110/'\n",
    "\n",
    "os.makedirs(dest_dir, exist_ok=True)"
   ]
  },
  {
   "cell_type": "code",
   "execution_count": 25,
   "metadata": {
    "Collapsed": "false"
   },
   "outputs": [
    {
     "data": {
      "text/plain": [
       "1110"
      ]
     },
     "execution_count": 25,
     "metadata": {},
     "output_type": "execute_result"
    }
   ],
   "source": [
    "file_list = sorted(glob(ds_dir + 'studies/**/*.nii.gz'))\n",
    "len(file_list)"
   ]
  },
  {
   "cell_type": "code",
   "execution_count": 29,
   "metadata": {
    "Collapsed": "false"
   },
   "outputs": [
    {
     "data": {
      "application/vnd.jupyter.widget-view+json": {
       "model_id": "4eabcb546f834dbab0b8c5d58aaaa81a",
       "version_major": 2,
       "version_minor": 0
      },
      "text/plain": [
       "HBox(children=(FloatProgress(value=0.0, max=1110.0), HTML(value='')))"
      ]
     },
     "metadata": {},
     "output_type": "display_data"
    },
    {
     "name": "stdout",
     "output_type": "stream",
     "text": [
      "\n"
     ]
    }
   ],
   "source": [
    "import gzip\n",
    "import shutil\n",
    "\n",
    "for zip_path in tqdm(file_list):\n",
    "    with gzip.open(zip_path, 'rb') as f_in:\n",
    "        dest_file = os.path.splitext(os.path.basename(zip_path))[0]\n",
    "        \n",
    "        with open(dest_dir + dest_file, 'wb') as f_out:\n",
    "            shutil.copyfileobj(f_in, f_out)\n",
    "\n",
    "\n",
    "# for zip_path in tqdm(file_list):\n",
    "#     with zipfile.ZipFile(zip_path, 'r') as z:\n",
    "#         z.extractall(dest_dir)"
   ]
  },
  {
   "cell_type": "markdown",
   "metadata": {
    "Collapsed": "true"
   },
   "source": [
    "## COVID-CTset\n",
    "A Large COVID-19 CT Scans dataset containing 63849 images from 377 patients"
   ]
  },
  {
   "cell_type": "markdown",
   "metadata": {
    "Collapsed": "false"
   },
   "source": [
    "**Download COVID-CTset.zip from https://github.com/mr7495/COVID-CTset and place to ../data/extracted**"
   ]
  },
  {
   "cell_type": "markdown",
   "metadata": {
    "Collapsed": "true"
   },
   "source": [
    "## Kaggle: OSIC Pulmonary Fibrosis Progression"
   ]
  },
  {
   "cell_type": "markdown",
   "metadata": {
    "Collapsed": "false"
   },
   "source": [
    "Download data from kaggle"
   ]
  },
  {
   "cell_type": "code",
   "execution_count": null,
   "metadata": {
    "Collapsed": "false"
   },
   "outputs": [],
   "source": []
  }
 ],
 "metadata": {
  "kernelspec": {
   "display_name": "Python [conda env:lens]",
   "language": "python",
   "name": "conda-env-lens-py"
  },
  "language_info": {
   "codemirror_mode": {
    "name": "ipython",
    "version": 3
   },
   "file_extension": ".py",
   "mimetype": "text/x-python",
   "name": "python",
   "nbconvert_exporter": "python",
   "pygments_lexer": "ipython3",
   "version": "3.8.5"
  }
 },
 "nbformat": 4,
 "nbformat_minor": 4
}
