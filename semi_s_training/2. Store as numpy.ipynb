{
 "cells": [
  {
   "cell_type": "markdown",
   "metadata": {},
   "source": [
    "# Reading DICOM scans an saving as numpy arrays"
   ]
  },
  {
   "cell_type": "code",
   "execution_count": 22,
   "metadata": {},
   "outputs": [],
   "source": [
    "import os\n",
    "from pathlib import Path\n",
    "from collections import Counter\n",
    "\n",
    "import numpy as np\n",
    "import pandas as pd\n",
    "from tqdm.auto import tqdm"
   ]
  },
  {
   "cell_type": "code",
   "execution_count": 2,
   "metadata": {},
   "outputs": [
    {
     "name": "stdout",
     "output_type": "stream",
     "text": [
      "Microsoft Visual C++ Redistributable is not installed, this may lead to the DLL load failure.\n",
      "                 It can be downloaded at https://aka.ms/vs/16/release/vc_redist.x64.exe\n"
     ]
    }
   ],
   "source": [
    "from lunglens.data import *"
   ]
  },
  {
   "cell_type": "code",
   "execution_count": 3,
   "metadata": {},
   "outputs": [],
   "source": [
    "data_dir = Path('../data/extracted')\n",
    "dest_root_dir = Path('../data/prepared')"
   ]
  },
  {
   "cell_type": "markdown",
   "metadata": {},
   "source": [
    "## Kaggle: OSIC Pulmonary Fibrosis Progression"
   ]
  },
  {
   "cell_type": "code",
   "execution_count": 5,
   "metadata": {
    "collapsed": true,
    "jupyter": {
     "outputs_hidden": true
    }
   },
   "outputs": [],
   "source": [
    "ds_dir = data_dir/'osic-pulmonary-fibrosis-progression'\n",
    "dest_dir = dest_root_dir/'osic-pulmonary-fibrosis-progression/'"
   ]
  },
  {
   "cell_type": "code",
   "execution_count": 8,
   "metadata": {
    "collapsed": true,
    "jupyter": {
     "outputs_hidden": true
    }
   },
   "outputs": [],
   "source": [
    "all_scans = list(ds_dir.rglob('ID0*'))"
   ]
  },
  {
   "cell_type": "code",
   "execution_count": 17,
   "metadata": {
    "collapsed": true,
    "jupyter": {
     "outputs_hidden": true
    }
   },
   "outputs": [
    {
     "data": {
      "application/vnd.jupyter.widget-view+json": {
       "model_id": "34562f392c7f49c8858193596ad759ac",
       "version_major": 2,
       "version_minor": 0
      },
      "text/plain": [
       "HBox(children=(FloatProgress(value=0.0, max=181.0), HTML(value='')))"
      ]
     },
     "metadata": {},
     "output_type": "display_data"
    },
    {
     "name": "stdout",
     "output_type": "stream",
     "text": [
      "error occured when trying to save scan: ..\\data\\extracted\\osic-pulmonary-fibrosis-progression\\train\\ID00052637202186188008618\n",
      "Exception thrown in SimpleITK ImageSeriesReader_Execute: D:\\a\\1\\sitk-build\\ITK\\Modules\\IO\\GDCM\\src\\itkGDCMImageIO.cxx:307:\n",
      "itk::ERROR: itk::ERROR: GDCMImageIO(00000267A6396260): Failed to change to Implicit Transfer Syntax\n",
      "\n"
     ]
    }
   ],
   "source": [
    "convert_dicoms2np(all_scans, dest_dir)"
   ]
  },
  {
   "cell_type": "code",
   "execution_count": 19,
   "metadata": {
    "collapsed": true,
    "jupyter": {
     "outputs_hidden": true
    }
   },
   "outputs": [],
   "source": [
    "all_files = list(dest_dir.glob('*/*.npy'))\n",
    "\n",
    "scans_folders = [f.parent.name for f in all_files]"
   ]
  },
  {
   "cell_type": "code",
   "execution_count": 25,
   "metadata": {
    "collapsed": true,
    "jupyter": {
     "outputs_hidden": true
    }
   },
   "outputs": [
    {
     "data": {
      "image/png": "[encoded data removed]",
      "text/plain": [
       "<Figure size 432x288 with 1 Axes>"
      ]
     },
     "metadata": {
      "needs_background": "light"
     },
     "output_type": "display_data"
    }
   ],
   "source": [
    "scan_sizes = list(Counter(scans_folders).values())\n",
    "\n",
    "print_hist(np.array(scan_sizes))"
   ]
  },
  {
   "cell_type": "code",
   "execution_count": null,
   "metadata": {
    "collapsed": true,
    "jupyter": {
     "outputs_hidden": true
    }
   },
   "outputs": [],
   "source": []
  },
  {
   "cell_type": "markdown",
   "metadata": {
    "collapsed": "true"
   },
   "source": [
    "## COVID19_1110 dataset"
   ]
  },
  {
   "cell_type": "code",
   "execution_count": 46,
   "metadata": {
    "collapsed": true,
    "jupyter": {
     "outputs_hidden": true
    }
   },
   "outputs": [],
   "source": [
    "ds_dir = data_dir/'COVID19_1110'\n",
    "dest_dir = dest_root_dir/'COVID19_1110'"
   ]
  },
  {
   "cell_type": "code",
   "execution_count": 47,
   "metadata": {},
   "outputs": [
    {
     "data": {
      "text/plain": [
       "1110"
      ]
     },
     "execution_count": 47,
     "metadata": {},
     "output_type": "execute_result"
    }
   ],
   "source": [
    "all_files = list(ds_dir.rglob('*.nii'))\n",
    "\n",
    "len(all_files)"
   ]
  },
  {
   "cell_type": "code",
   "execution_count": 48,
   "metadata": {},
   "outputs": [
    {
     "data": {
      "application/vnd.jupyter.widget-view+json": {
       "model_id": "5f8fb5b5299a4c999d81bc34c16be222",
       "version_major": 2,
       "version_minor": 0
      },
      "text/plain": [
       "HBox(children=(FloatProgress(value=0.0, max=1110.0), HTML(value='')))"
      ]
     },
     "metadata": {},
     "output_type": "display_data"
    },
    {
     "name": "stdout",
     "output_type": "stream",
     "text": [
      "\n"
     ]
    }
   ],
   "source": [
    "convert_dicoms2np(all_files, dest_dir)"
   ]
  },
  {
   "cell_type": "code",
   "execution_count": 48,
   "metadata": {},
   "outputs": [
    {
     "data": {
      "text/plain": [
       "\u001b[1;31mSignature:\u001b[0m \u001b[0mconvert_dicoms2np\u001b[0m\u001b[1;33m(\u001b[0m\u001b[0mdicoms\u001b[0m\u001b[1;33m,\u001b[0m \u001b[0mdest_dir\u001b[0m\u001b[1;33m,\u001b[0m \u001b[0mtarget_voxel_mm\u001b[0m\u001b[1;33m=\u001b[0m\u001b[1;36m1.0\u001b[0m\u001b[1;33m)\u001b[0m\u001b[1;33m\u001b[0m\u001b[1;33m\u001b[0m\u001b[0m\n",
       "\u001b[1;31mDocstring:\u001b[0m <no docstring>\n",
       "\u001b[1;31mSource:\u001b[0m   \n",
       "\u001b[1;32mdef\u001b[0m \u001b[0mconvert_dicoms2np\u001b[0m\u001b[1;33m(\u001b[0m\u001b[0mdicoms\u001b[0m\u001b[1;33m,\u001b[0m \u001b[0mdest_dir\u001b[0m\u001b[1;33m,\u001b[0m \u001b[0mtarget_voxel_mm\u001b[0m\u001b[1;33m=\u001b[0m\u001b[0mcfg\u001b[0m\u001b[1;33m.\u001b[0m\u001b[0mTARGET_MM_PER_VX\u001b[0m\u001b[1;33m)\u001b[0m\u001b[1;33m:\u001b[0m\u001b[1;33m\n",
       "\u001b[0m    \u001b[1;32mfor\u001b[0m \u001b[0mscan_f\u001b[0m \u001b[1;32min\u001b[0m \u001b[0mtqdm\u001b[0m\u001b[1;33m(\u001b[0m\u001b[0mdicoms\u001b[0m\u001b[1;33m)\u001b[0m\u001b[1;33m:\u001b[0m\u001b[1;33m\n",
       "\u001b[0m        \u001b[0mscan_id\u001b[0m \u001b[1;33m=\u001b[0m \u001b[0mscan_f\u001b[0m\u001b[1;33m.\u001b[0m\u001b[0mstem\u001b[0m \u001b[1;32mif\u001b[0m \u001b[0mscan_f\u001b[0m\u001b[1;33m.\u001b[0m\u001b[0mis_file\u001b[0m\u001b[1;33m(\u001b[0m\u001b[1;33m)\u001b[0m \u001b[1;32melse\u001b[0m \u001b[0mscan_f\u001b[0m\u001b[1;33m.\u001b[0m\u001b[0mname\u001b[0m\u001b[1;33m\n",
       "\u001b[0m        \u001b[0mresult_folder\u001b[0m \u001b[1;33m=\u001b[0m \u001b[0mdest_dir\u001b[0m\u001b[1;33m/\u001b[0m\u001b[1;34mf'{scan_id}'\u001b[0m\u001b[1;33m\n",
       "\u001b[0m\u001b[1;33m\n",
       "\u001b[0m\u001b[1;31m#         if result_folder.exists():\u001b[0m\u001b[1;33m\n",
       "\u001b[0m\u001b[1;31m#             continue\u001b[0m\u001b[1;33m\n",
       "\u001b[0m\u001b[1;33m\n",
       "\u001b[0m        \u001b[1;32mtry\u001b[0m\u001b[1;33m:\u001b[0m\u001b[1;33m\n",
       "\u001b[0m            \u001b[1;31m# read dicom with default scaling\u001b[0m\u001b[1;33m\n",
       "\u001b[0m            \u001b[0mreader\u001b[0m \u001b[1;33m=\u001b[0m \u001b[0mread_dicom_file\u001b[0m \u001b[1;32mif\u001b[0m \u001b[0mscan_f\u001b[0m\u001b[1;33m.\u001b[0m\u001b[0mis_file\u001b[0m\u001b[1;33m(\u001b[0m\u001b[1;33m)\u001b[0m \u001b[1;32melse\u001b[0m \u001b[0mread_dicom_folder\u001b[0m\u001b[1;33m\n",
       "\u001b[0m            \u001b[0mdata\u001b[0m\u001b[1;33m,\u001b[0m \u001b[0mitk_image\u001b[0m \u001b[1;33m=\u001b[0m \u001b[0mreader\u001b[0m\u001b[1;33m(\u001b[0m\u001b[0mscan_f\u001b[0m\u001b[1;33m)\u001b[0m\u001b[1;33m\n",
       "\u001b[0m\u001b[1;33m\n",
       "\u001b[0m            \u001b[1;31m# apply CT window for Lungs\u001b[0m\u001b[1;33m\n",
       "\u001b[0m            \u001b[0mdata\u001b[0m \u001b[1;33m=\u001b[0m \u001b[0mappply_window\u001b[0m\u001b[1;33m(\u001b[0m\u001b[0mdata\u001b[0m\u001b[1;33m,\u001b[0m \u001b[0mnormalize\u001b[0m\u001b[1;33m=\u001b[0m\u001b[1;32mTrue\u001b[0m\u001b[1;33m)\u001b[0m\u001b[1;33m\n",
       "\u001b[0m\u001b[1;33m\n",
       "\u001b[0m            \u001b[1;31m# rescale to 1 mm per 1 vx\u001b[0m\u001b[1;33m\n",
       "\u001b[0m            \u001b[0mdata\u001b[0m \u001b[1;33m=\u001b[0m \u001b[0mrescale_dicom\u001b[0m\u001b[1;33m(\u001b[0m\u001b[0mitk_image\u001b[0m\u001b[1;33m,\u001b[0m \u001b[0mdata\u001b[0m\u001b[1;33m,\u001b[0m \u001b[0mtarget_voxel_mm\u001b[0m\u001b[1;33m)\u001b[0m\u001b[1;33m\n",
       "\u001b[0m\u001b[1;33m\n",
       "\u001b[0m            \u001b[0mos\u001b[0m\u001b[1;33m.\u001b[0m\u001b[0mmakedirs\u001b[0m\u001b[1;33m(\u001b[0m\u001b[0mresult_folder\u001b[0m\u001b[1;33m,\u001b[0m \u001b[0mexist_ok\u001b[0m\u001b[1;33m=\u001b[0m\u001b[1;32mTrue\u001b[0m\u001b[1;33m)\u001b[0m\u001b[1;33m\n",
       "\u001b[0m\u001b[1;33m\n",
       "\u001b[0m            \u001b[1;31m# save each slice as numpy\u001b[0m\u001b[1;33m\n",
       "\u001b[0m            \u001b[1;32mfor\u001b[0m \u001b[0mslice_i\u001b[0m\u001b[1;33m,\u001b[0m \u001b[0mslice_data\u001b[0m \u001b[1;32min\u001b[0m \u001b[0menumerate\u001b[0m\u001b[1;33m(\u001b[0m\u001b[0mdata\u001b[0m\u001b[1;33m)\u001b[0m\u001b[1;33m:\u001b[0m\u001b[1;33m\n",
       "\u001b[0m                \u001b[0mnp\u001b[0m\u001b[1;33m.\u001b[0m\u001b[0msave\u001b[0m\u001b[1;33m(\u001b[0m\u001b[0mstr\u001b[0m\u001b[1;33m(\u001b[0m\u001b[0mresult_folder\u001b[0m\u001b[1;33m/\u001b[0m\u001b[1;34mf'{slice_i}.npy'\u001b[0m\u001b[1;33m)\u001b[0m\u001b[1;33m,\u001b[0m \u001b[0mslice_data\u001b[0m\u001b[1;33m)\u001b[0m\u001b[1;33m\n",
       "\u001b[0m        \u001b[1;32mexcept\u001b[0m \u001b[0mException\u001b[0m \u001b[1;32mas\u001b[0m \u001b[0mex\u001b[0m\u001b[1;33m:\u001b[0m\u001b[1;33m\n",
       "\u001b[0m            \u001b[0mprint\u001b[0m\u001b[1;33m(\u001b[0m\u001b[1;34mf'error occured when trying to save scan: {scan_f}'\u001b[0m\u001b[1;33m)\u001b[0m\u001b[1;33m\n",
       "\u001b[0m            \u001b[0mprint\u001b[0m\u001b[1;33m(\u001b[0m\u001b[0mex\u001b[0m\u001b[1;33m)\u001b[0m\u001b[1;33m\u001b[0m\u001b[1;33m\u001b[0m\u001b[0m\n",
       "\u001b[1;31mFile:\u001b[0m      d:\\projects\\ds\\health-lens-ai\\lunglens\\repo\\lib-pkg\\lunglens\\data.py\n",
       "\u001b[1;31mType:\u001b[0m      function\n"
      ]
     },
     "metadata": {},
     "output_type": "display_data"
    }
   ],
   "source": [
    "??convert_dicoms2np"
   ]
  },
  {
   "cell_type": "markdown",
   "metadata": {
    "jupyter": {
     "outputs_hidden": true
    }
   },
   "source": [
    "## Kaggle: covid19-ct-scans"
   ]
  },
  {
   "cell_type": "code",
   "execution_count": 39,
   "metadata": {},
   "outputs": [],
   "source": [
    "ds_dir = data_dir / 'covid19-ct-scans'\n",
    "dest_dir = dest_root_dir / 'covid19-ct-scans'\n",
    "\n",
    "(dest_dir / 'infected').mkdir(parents=True, exist_ok=True)\n",
    "(dest_dir / 'healthy').mkdir(parents=True, exist_ok=True)"
   ]
  },
  {
   "cell_type": "code",
   "execution_count": 9,
   "metadata": {},
   "outputs": [
    {
     "data": {
      "text/html": [
       "<div>\n",
       "<style scoped>\n",
       "    .dataframe tbody tr th:only-of-type {\n",
       "        vertical-align: middle;\n",
       "    }\n",
       "\n",
       "    .dataframe tbody tr th {\n",
       "        vertical-align: top;\n",
       "    }\n",
       "\n",
       "    .dataframe thead th {\n",
       "        text-align: right;\n",
       "    }\n",
       "</style>\n",
       "<table border=\"1\" class=\"dataframe\">\n",
       "  <thead>\n",
       "    <tr style=\"text-align: right;\">\n",
       "      <th></th>\n",
       "      <th>ct_scan</th>\n",
       "      <th>infection_mask</th>\n",
       "    </tr>\n",
       "  </thead>\n",
       "  <tbody>\n",
       "    <tr>\n",
       "      <th>0</th>\n",
       "      <td>../input/covid19-ct-scans/ct_scans/coronacases...</td>\n",
       "      <td>../input/covid19-ct-scans/infection_mask/coron...</td>\n",
       "    </tr>\n",
       "    <tr>\n",
       "      <th>1</th>\n",
       "      <td>../input/covid19-ct-scans/ct_scans/coronacases...</td>\n",
       "      <td>../input/covid19-ct-scans/infection_mask/coron...</td>\n",
       "    </tr>\n",
       "    <tr>\n",
       "      <th>2</th>\n",
       "      <td>../input/covid19-ct-scans/ct_scans/coronacases...</td>\n",
       "      <td>../input/covid19-ct-scans/infection_mask/coron...</td>\n",
       "    </tr>\n",
       "    <tr>\n",
       "      <th>3</th>\n",
       "      <td>../input/covid19-ct-scans/ct_scans/coronacases...</td>\n",
       "      <td>../input/covid19-ct-scans/infection_mask/coron...</td>\n",
       "    </tr>\n",
       "    <tr>\n",
       "      <th>4</th>\n",
       "      <td>../input/covid19-ct-scans/ct_scans/coronacases...</td>\n",
       "      <td>../input/covid19-ct-scans/infection_mask/coron...</td>\n",
       "    </tr>\n",
       "  </tbody>\n",
       "</table>\n",
       "</div>"
      ],
      "text/plain": [
       "                                             ct_scan  \\\n",
       "0  ../input/covid19-ct-scans/ct_scans/coronacases...   \n",
       "1  ../input/covid19-ct-scans/ct_scans/coronacases...   \n",
       "2  ../input/covid19-ct-scans/ct_scans/coronacases...   \n",
       "3  ../input/covid19-ct-scans/ct_scans/coronacases...   \n",
       "4  ../input/covid19-ct-scans/ct_scans/coronacases...   \n",
       "\n",
       "                                      infection_mask  \n",
       "0  ../input/covid19-ct-scans/infection_mask/coron...  \n",
       "1  ../input/covid19-ct-scans/infection_mask/coron...  \n",
       "2  ../input/covid19-ct-scans/infection_mask/coron...  \n",
       "3  ../input/covid19-ct-scans/infection_mask/coron...  \n",
       "4  ../input/covid19-ct-scans/infection_mask/coron...  "
      ]
     },
     "execution_count": 9,
     "metadata": {},
     "output_type": "execute_result"
    }
   ],
   "source": [
    "df = pd.read_csv(ds_dir / 'metadata.csv')\n",
    "df[['ct_scan', 'infection_mask']].head()"
   ]
  },
  {
   "cell_type": "code",
   "execution_count": 10,
   "metadata": {},
   "outputs": [],
   "source": [
    "rel_path_exp = 'covid19-ct-scans/(.+)'\n",
    "df['mask_path'] = df.infection_mask.str.extract(rel_path_exp)\n",
    "df['scan_path'] = df.ct_scan.str.extract(rel_path_exp)"
   ]
  },
  {
   "cell_type": "code",
   "execution_count": 15,
   "metadata": {},
   "outputs": [],
   "source": [
    "scan2mask = dict(zip(df.scan_path, df.mask_path))"
   ]
  },
  {
   "cell_type": "code",
   "execution_count": 49,
   "metadata": {},
   "outputs": [
    {
     "data": {
      "application/vnd.jupyter.widget-view+json": {
       "model_id": "594bab15fa0346078ba089e8ad76608d",
       "version_major": 2,
       "version_minor": 0
      },
      "text/plain": [
       "HBox(children=(FloatProgress(value=0.0, max=20.0), HTML(value='')))"
      ]
     },
     "metadata": {},
     "output_type": "display_data"
    },
    {
     "name": "stdout",
     "output_type": "stream",
     "text": [
      "\n"
     ]
    }
   ],
   "source": [
    "for scan_id in tqdm(df.scan_path):\n",
    "    scan_path = ds_dir / scan_id\n",
    "    mask_path = ds_dir / scan2mask[scan_id]\n",
    "    \n",
    "    mask, _ = read_dicom_file(mask_path)\n",
    "    scan, _ = read_dicom_file(scan_path)\n",
    "    \n",
    "    # apply lung CT window and normalize\n",
    "    scan = appply_window(scan, normalize=True)\n",
    "    \n",
    "    infection_per_slice = mask.sum(axis=(1,2))\n",
    "    for i, infection in enumerate(infection_per_slice):\n",
    "        lbl = 'infected' if infection > 0 else 'healthy'\n",
    "        \n",
    "        slice_dest_path = dest_dir / lbl / f'{scan_path.stem}-{i:03}.npy'\n",
    "        \n",
    "        np.save(str(slice_dest_path), scan[i])"
   ]
  },
  {
   "cell_type": "code",
   "execution_count": null,
   "metadata": {},
   "outputs": [],
   "source": []
  }
 ],
 "metadata": {
  "kernelspec": {
   "display_name": "Python [conda env:lens]",
   "language": "python",
   "name": "conda-env-lens-py"
  },
  "language_info": {
   "codemirror_mode": {
    "name": "ipython",
    "version": 3
   },
   "file_extension": ".py",
   "mimetype": "text/x-python",
   "name": "python",
   "nbconvert_exporter": "python",
   "pygments_lexer": "ipython3",
   "version": "3.8.5"
  }
 },
 "nbformat": 4,
 "nbformat_minor": 4
}
